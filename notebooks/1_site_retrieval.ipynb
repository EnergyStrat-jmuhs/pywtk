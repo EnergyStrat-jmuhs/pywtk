{
 "cells": [
  {
   "cell_type": "code",
   "execution_count": 1,
   "metadata": {
    "collapsed": false
   },
   "outputs": [
    {
     "name": "stderr",
     "output_type": "stream",
     "text": [
      "/Users/hsorense/anaconda2/envs/pywtk/lib/python2.7/site-packages/matplotlib/font_manager.py:273: UserWarning: Matplotlib is building the font cache using fc-list. This may take a moment.\n",
      "  warnings.warn('Matplotlib is building the font cache using fc-list. This may take a moment.')\n"
     ]
    }
   ],
   "source": [
    "%matplotlib inline\n",
    "import matplotlib.pyplot as plt\n",
    "import pandas\n",
    "import requests\n",
    "import sys\n",
    "from pywtk.site_lookup import get_3tiersites_from_wkt"
   ]
  },
  {
   "cell_type": "markdown",
   "metadata": {},
   "source": [
    "### Create bounding polygon for area of interest"
   ]
  },
  {
   "cell_type": "code",
   "execution_count": 2,
   "metadata": {
    "collapsed": true
   },
   "outputs": [],
   "source": [
    "min_lng = -75\n",
    "max_lng = -65\n",
    "min_lat = 39\n",
    "max_lat = 49\n",
    "wkt = \"POLYGON(({0} {3},{1} {3},{1} {2},{0} {2},{0} {3}))\".format(min_lng, max_lng, min_lat, max_lat)"
   ]
  },
  {
   "cell_type": "markdown",
   "metadata": {},
   "source": [
    "### Retrieve sites within polygon"
   ]
  },
  {
   "cell_type": "code",
   "execution_count": 3,
   "metadata": {
    "collapsed": true
   },
   "outputs": [],
   "source": [
    "site_df = get_3tiersites_from_wkt(wkt)"
   ]
  },
  {
   "cell_type": "markdown",
   "metadata": {},
   "source": [
    "### Add index to dataframe data"
   ]
  },
  {
   "cell_type": "code",
   "execution_count": 4,
   "metadata": {
    "collapsed": false
   },
   "outputs": [
    {
     "name": "stdout",
     "output_type": "stream",
     "text": [
      "Index([u'gid', u'fraction_of_usable_area', u'power_curve', u'capacity',\n",
      "       u'wind_speed', u'capacity_factor', u'the_geom', u'city', u'state',\n",
      "       u'country', u'elevation', u'point', u'lat', u'lon'],\n",
      "      dtype='object')\n",
      "Index([u'site_id', u'gid', u'fraction_of_usable_area', u'power_curve',\n",
      "       u'capacity', u'wind_speed', u'capacity_factor', u'the_geom', u'city',\n",
      "       u'state', u'country', u'elevation', u'point', u'lat', u'lon'],\n",
      "      dtype='object')\n"
     ]
    }
   ],
   "source": [
    "print(site_df.columns)\n",
    "site_df = site_df.reset_index()\n",
    "print(site_df.columns)"
   ]
  },
  {
   "cell_type": "markdown",
   "metadata": {},
   "source": [
    "### Save dataframe as a csv.  The csv will contain a subset of the metadata to include site_id, lat, lon, capacity"
   ]
  },
  {
   "cell_type": "code",
   "execution_count": 5,
   "metadata": {
    "collapsed": false
   },
   "outputs": [],
   "source": [
    "site_df[['site_id', 'lat', 'lon', 'capacity', 'capacity_factor']].to_csv('interesting_sites.csv', index=False)"
   ]
  },
  {
   "cell_type": "code",
   "execution_count": 6,
   "metadata": {
    "collapsed": false
   },
   "outputs": [
    {
     "name": "stdout",
     "output_type": "stream",
     "text": [
      "site_id,lat,lon,capacity,capacity_factor\r\n",
      "98853,41.936672,-72.875977,16.0,0.473\r\n",
      "100782,41.939423,-72.196167,16.0,0.469\r\n",
      "100982,41.962639,-72.212738,16.0,0.476\r\n",
      "101179,41.985855,-72.22934,16.0,0.454\r\n",
      "101180,41.980415,-72.205414,16.0,0.483\r\n",
      "101181,41.974972,-72.181519,16.0,0.488\r\n",
      "101379,42.009075,-72.245941,16.0,0.444\r\n",
      "101380,42.003639,-72.222015,16.0,0.477\r\n",
      "101381,41.998199,-72.19809,16.0,0.492\r\n"
     ]
    }
   ],
   "source": [
    "!head interesting_sites.csv"
   ]
  },
  {
   "cell_type": "code",
   "execution_count": 7,
   "metadata": {
    "collapsed": false
   },
   "outputs": [
    {
     "data": {
      "text/html": [
       "<div>\n",
       "<table border=\"1\" class=\"dataframe\">\n",
       "  <thead>\n",
       "    <tr style=\"text-align: right;\">\n",
       "      <th></th>\n",
       "      <th>lat</th>\n",
       "      <th>lon</th>\n",
       "      <th>capacity</th>\n",
       "      <th>capacity_factor</th>\n",
       "    </tr>\n",
       "    <tr>\n",
       "      <th>site_id</th>\n",
       "      <th></th>\n",
       "      <th></th>\n",
       "      <th></th>\n",
       "      <th></th>\n",
       "    </tr>\n",
       "  </thead>\n",
       "  <tbody>\n",
       "    <tr>\n",
       "      <th>98853</th>\n",
       "      <td>41.936672</td>\n",
       "      <td>-72.875977</td>\n",
       "      <td>16.0</td>\n",
       "      <td>0.473</td>\n",
       "    </tr>\n",
       "    <tr>\n",
       "      <th>100782</th>\n",
       "      <td>41.939423</td>\n",
       "      <td>-72.196167</td>\n",
       "      <td>16.0</td>\n",
       "      <td>0.469</td>\n",
       "    </tr>\n",
       "    <tr>\n",
       "      <th>100982</th>\n",
       "      <td>41.962639</td>\n",
       "      <td>-72.212738</td>\n",
       "      <td>16.0</td>\n",
       "      <td>0.476</td>\n",
       "    </tr>\n",
       "    <tr>\n",
       "      <th>101179</th>\n",
       "      <td>41.985855</td>\n",
       "      <td>-72.229340</td>\n",
       "      <td>16.0</td>\n",
       "      <td>0.454</td>\n",
       "    </tr>\n",
       "    <tr>\n",
       "      <th>101180</th>\n",
       "      <td>41.980415</td>\n",
       "      <td>-72.205414</td>\n",
       "      <td>16.0</td>\n",
       "      <td>0.483</td>\n",
       "    </tr>\n",
       "  </tbody>\n",
       "</table>\n",
       "</div>"
      ],
      "text/plain": [
       "               lat        lon  capacity  capacity_factor\n",
       "site_id                                                 \n",
       "98853    41.936672 -72.875977      16.0            0.473\n",
       "100782   41.939423 -72.196167      16.0            0.469\n",
       "100982   41.962639 -72.212738      16.0            0.476\n",
       "101179   41.985855 -72.229340      16.0            0.454\n",
       "101180   41.980415 -72.205414      16.0            0.483"
      ]
     },
     "execution_count": 7,
     "metadata": {},
     "output_type": "execute_result"
    }
   ],
   "source": [
    "site_df2=pandas.DataFrame.from_csv('interesting_sites.csv')\n",
    "site_df2.head()"
   ]
  },
  {
   "cell_type": "code",
   "execution_count": null,
   "metadata": {
    "collapsed": true
   },
   "outputs": [],
   "source": []
  }
 ],
 "metadata": {
  "kernelspec": {
   "display_name": "Python [default]",
   "language": "python",
   "name": "python2"
  },
  "language_info": {
   "codemirror_mode": {
    "name": "ipython",
    "version": 2
   },
   "file_extension": ".py",
   "mimetype": "text/x-python",
   "name": "python",
   "nbconvert_exporter": "python",
   "pygments_lexer": "ipython2",
   "version": "2.7.12"
  }
 },
 "nbformat": 4,
 "nbformat_minor": 1
}
